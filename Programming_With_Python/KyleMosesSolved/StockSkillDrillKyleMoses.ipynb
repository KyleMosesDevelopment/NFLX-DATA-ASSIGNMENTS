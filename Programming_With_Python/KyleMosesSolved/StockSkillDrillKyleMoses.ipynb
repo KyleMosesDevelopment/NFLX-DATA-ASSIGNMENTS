{
 "cells": [
  {
   "cell_type": "code",
   "execution_count": 13,
   "metadata": {},
   "outputs": [],
   "source": [
    "# Import the 'os' and 'csv' libraries\n",
    "import os\n",
    "import csv"
   ]
  },
  {
   "cell_type": "code",
   "execution_count": 14,
   "metadata": {},
   "outputs": [],
   "source": [
    "# Set path for importing our CSV file\n",
    "csvpath = os.path.join('../','Resources', 'yahoo_stock.csv')"
   ]
  },
  {
   "cell_type": "code",
   "execution_count": 15,
   "metadata": {},
   "outputs": [
    {
     "name": "stdout",
     "output_type": "stream",
     "text": [
      "Day with greatest percent change: 3/12/2020 \n",
      "Stock high: 2660.949951 \n",
      "Stock Low: 2478.860107 \n",
      "Volume: 8829380000 \n",
      "Percent change: 5.709927852123531 \n"
     ]
    }
   ],
   "source": [
    "# Function that takes open and close parameters as floats, Returns the absolute value of percent change of a single day\n",
    "# (close - open) / open = percent change\n",
    "def calculatePercentChange(openNum, closeNum):\n",
    "    percent_change = ((closeNum - openNum)/openNum)*100\n",
    "    percent_change = abs(percent_change)\n",
    "    return percent_change\n",
    "    \n",
    "# Open a connection to the comma-delimited csv file\n",
    "with open(csvpath,'r') as csvfile:\n",
    "\n",
    "    # Read in the CSV file using csv.DictReader() class\n",
    "    reader = csv.DictReader(csvfile)\n",
    "    \n",
    "    # Create a variable to save our print row and greatest daily percent change\n",
    "    max_pct = 0\n",
    "    print_row = {}\n",
    "\n",
    "    # Iterate through each row\n",
    "    for row in reader:\n",
    "        # For each row, calculate the daily percent change\n",
    "        row_percent_change = calculatePercentChange(float(row[\"Open\"]), float(row[\"Close\"]))\n",
    "        \n",
    "        # Check if the absolute daily percent change is greater than the previous max\n",
    "        if row_percent_change > max_pct:\n",
    "            # If true, store new greatest daily percent change and print row\n",
    "            max_pct = row_percent_change\n",
    "            print_row = row\n",
    "                        \n",
    "    # Print out the date, stock high, stock low, volume and percent change for the day with the greatest percent change\n",
    "    print(\"Day with greatest percent change:\", print_row[\"Date\"],\n",
    "          \"\\nStock high:\", print_row[\"High\"], \"\\nStock Low:\", print_row[\"Low\"], \"\\nVolume:\", print_row[\"Volume\"], \n",
    "         \"\\nPercent change:\", max_pct, \"\")"
   ]
  },
  {
   "cell_type": "code",
   "execution_count": null,
   "metadata": {},
   "outputs": [],
   "source": []
  }
 ],
 "metadata": {
  "kernelspec": {
   "display_name": "Python 3",
   "language": "python",
   "name": "python3"
  },
  "language_info": {
   "codemirror_mode": {
    "name": "ipython",
    "version": 3
   },
   "file_extension": ".py",
   "mimetype": "text/x-python",
   "name": "python",
   "nbconvert_exporter": "python",
   "pygments_lexer": "ipython3",
   "version": "3.8.8"
  }
 },
 "nbformat": 4,
 "nbformat_minor": 4
}
